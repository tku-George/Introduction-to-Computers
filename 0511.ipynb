{
  "nbformat": 4,
  "nbformat_minor": 0,
  "metadata": {
    "colab": {
      "name": "0511.ipynb",
      "provenance": [],
      "authorship_tag": "ABX9TyO6BlbH6EN/Q9wx2kSJWVqK",
      "include_colab_link": true
    },
    "kernelspec": {
      "name": "python3",
      "display_name": "Python 3"
    },
    "language_info": {
      "name": "python"
    }
  },
  "cells": [
    {
      "cell_type": "markdown",
      "metadata": {
        "id": "view-in-github",
        "colab_type": "text"
      },
      "source": [
        "<a href=\"https://colab.research.google.com/github/tku-George/Introduction-to-Computers/blob/main/0511.ipynb\" target=\"_parent\"><img src=\"https://colab.research.google.com/assets/colab-badge.svg\" alt=\"Open In Colab\"/></a>"
      ]
    },
    {
      "cell_type": "code",
      "execution_count": 1,
      "metadata": {
        "colab": {
          "base_uri": "https://localhost:8080/"
        },
        "id": "KkHtmz65hAGe",
        "outputId": "13bca4a0-8396-4d7a-ab5e-a5a325b58f9d"
      },
      "outputs": [
        {
          "output_type": "stream",
          "name": "stdout",
          "text": [
            "test\n"
          ]
        }
      ],
      "source": [
        "print(\"test\")"
      ]
    },
    {
      "cell_type": "code",
      "source": [
        "temp = float(input(\"請輸入你的體溫\"))\n",
        "if temp >= 37.5:\n",
        "  print(\"體溫過高!\")\n",
        "elif temp >= 37 and temp < 37.4:\n",
        "  print(\"體溫略高!\")\n",
        "elif temp >= 34 and temp < 36:\n",
        "  print(\"體溫正常!\")\n",
        "else:\n",
        "  print(\"體溫異常,請重新測量!\")"
      ],
      "metadata": {
        "colab": {
          "base_uri": "https://localhost:8080/"
        },
        "id": "3idChkGBiKWR",
        "outputId": "27b38487-d8a5-49f9-aa79-7d43cde24479"
      },
      "execution_count": 3,
      "outputs": [
        {
          "output_type": "stream",
          "name": "stdout",
          "text": [
            "請輸入你的體溫33\n",
            "體溫異常,請重新測量!\n"
          ]
        }
      ]
    },
    {
      "cell_type": "code",
      "source": [
        "money = int(input(\"請輸入購物金額\"))\n",
        "if(money >= 10000):\n",
        "  if(money >= 100000):\n",
        "    print(\"八折\",money* 0.8, end= \"元\\n\")\n",
        "  elif(money >= 50000):\n",
        "    print(\"八五折\",money* 0.85, end= \"元\\n\")\n",
        "  elif(money >= 30000):\n",
        "    print(\"九折\",money* 0.9, end= \"元\\n\")\n",
        "  else:\n",
        "    print(\"九五折\",money* 0.95, end= \"元\\n\")\n",
        "else:\n",
        "  print(\"沒打折\", money, end= \"元\\n\")\n"
      ],
      "metadata": {
        "colab": {
          "base_uri": "https://localhost:8080/"
        },
        "id": "v9_A8F5SlzoF",
        "outputId": "495b2a46-d611-46c8-b40c-efdb5b3c19e4"
      },
      "execution_count": 9,
      "outputs": [
        {
          "output_type": "stream",
          "name": "stdout",
          "text": [
            "請輸入購物金額50000\n",
            "八五折 42500.0元\n"
          ]
        }
      ]
    },
    {
      "cell_type": "code",
      "source": [
        "score = int(input(\"請輸入成績\"))\n",
        "if score >= 90:\n",
        "  print(\"A\")\n",
        "elif score >= 80 and score < 89:\n",
        "  print(\"B\")\n",
        "elif score >= 70 and score < 79:\n",
        "  print(\"C\")\n",
        "elif score >= 60 and score < 69:\n",
        "  print(\"D\")\n",
        "else:\n",
        "  print(\"E\")"
      ],
      "metadata": {
        "colab": {
          "base_uri": "https://localhost:8080/"
        },
        "id": "M0P1G1INqQ9d",
        "outputId": "e4faeae7-eec2-49f5-bc39-ec8db6ac7a51"
      },
      "execution_count": 11,
      "outputs": [
        {
          "output_type": "stream",
          "name": "stdout",
          "text": [
            "請輸入成績59\n",
            "E\n"
          ]
        }
      ]
    },
    {
      "cell_type": "code",
      "source": [
        "season = int(input(\"請輸入月份\"))\n",
        "if season >= 3 and season <= 5:\n",
        "  print(season,\"月是春天\")\n",
        "elif season >= 6 and season <= 8:\n",
        "  print(season,\"月是夏天\")\n",
        "elif season >= 9 and season <= 11:\n",
        "  print(season,\"月是秋天\")\n",
        "elif season >= 12 and season <= 1:\n",
        "  print(season,\"月是冬天\")\n",
        "else:\n",
        "  print(\"月份不在範圍內\")"
      ],
      "metadata": {
        "colab": {
          "base_uri": "https://localhost:8080/"
        },
        "id": "dDP7JnCvrfRD",
        "outputId": "75b721b4-4208-4574-a778-7c81e7b77103"
      },
      "execution_count": 18,
      "outputs": [
        {
          "output_type": "stream",
          "name": "stdout",
          "text": [
            "請輸入月份4\n",
            "4 月是春天\n"
          ]
        }
      ]
    },
    {
      "cell_type": "code",
      "source": [
        "money = int(input(\"請輸入今年收入淨額\"))\n",
        "if(money >= 2000000):\n",
        "  print(\"付稅金額:\",money* 0.3, end= \"元\\n\")\n",
        "elif(money >= 1000000):\n",
        "  print(\"付稅金額:\",money* 0.21, end= \"元\\n\")\n",
        "elif(money >= 600000):\n",
        "    print(\"付稅金額:\",money* 0.13, end= \"元\\n\")\n",
        "elif(money >= 300000):\n",
        "    print(\"付稅金額:\",money* 0.06, end= \"元\\n\")\n",
        "else:\n",
        "  print(\"付稅金額:\",money* 0, end= \"元\\n\")"
      ],
      "metadata": {
        "colab": {
          "base_uri": "https://localhost:8080/"
        },
        "id": "b-rxlQTDsv9h",
        "outputId": "722622f4-96bf-4217-b43c-022be237f46d"
      },
      "execution_count": 16,
      "outputs": [
        {
          "output_type": "stream",
          "name": "stdout",
          "text": [
            "請輸入今年收入淨額100000\n",
            "付稅金額: 0元\n"
          ]
        }
      ]
    }
  ]
}