{
  "nbformat": 4,
  "nbformat_minor": 0,
  "metadata": {
    "colab": {
      "name": "0601.ipynb",
      "provenance": [],
      "authorship_tag": "ABX9TyMKS/yjaYpwAVoNsagCOKrb",
      "include_colab_link": true
    },
    "kernelspec": {
      "name": "python3",
      "display_name": "Python 3"
    },
    "language_info": {
      "name": "python"
    }
  },
  "cells": [
    {
      "cell_type": "markdown",
      "metadata": {
        "id": "view-in-github",
        "colab_type": "text"
      },
      "source": [
        "<a href=\"https://colab.research.google.com/github/tku-George/Introduction-to-Computers/blob/main/0601.ipynb\" target=\"_parent\"><img src=\"https://colab.research.google.com/assets/colab-badge.svg\" alt=\"Open In Colab\"/></a>"
      ]
    },
    {
      "cell_type": "code",
      "source": [
        "print(\"0601\")"
      ],
      "metadata": {
        "colab": {
          "base_uri": "https://localhost:8080/"
        },
        "id": "Pwq1h4Pg2BZN",
        "outputId": "81b303fa-2c6f-4fa6-9f0d-6a099550fbd2"
      },
      "execution_count": 4,
      "outputs": [
        {
          "output_type": "stream",
          "name": "stdout",
          "text": [
            "0601\n"
          ]
        }
      ]
    },
    {
      "cell_type": "code",
      "source": [
        "for i in range(2,10):\n",
        "  for j in range(1,10):\n",
        "    product = i*j\n",
        "    print(\"%d*%d=%2d \" % (i,j, product), end=\"\")\n",
        "  print()"
      ],
      "metadata": {
        "colab": {
          "base_uri": "https://localhost:8080/"
        },
        "id": "B9cflAkD2GFE",
        "outputId": "322f94b9-6d97-421f-fd24-6668c5d9c568"
      },
      "execution_count": 8,
      "outputs": [
        {
          "output_type": "stream",
          "name": "stdout",
          "text": [
            "2*1= 2 2*2= 4 2*3= 6 2*4= 8 2*5=10 2*6=12 2*7=14 2*8=16 2*9=18 \n",
            "3*1= 3 3*2= 6 3*3= 9 3*4=12 3*5=15 3*6=18 3*7=21 3*8=24 3*9=27 \n",
            "4*1= 4 4*2= 8 4*3=12 4*4=16 4*5=20 4*6=24 4*7=28 4*8=32 4*9=36 \n",
            "5*1= 5 5*2=10 5*3=15 5*4=20 5*5=25 5*6=30 5*7=35 5*8=40 5*9=45 \n",
            "6*1= 6 6*2=12 6*3=18 6*4=24 6*5=30 6*6=36 6*7=42 6*8=48 6*9=54 \n",
            "7*1= 7 7*2=14 7*3=21 7*4=28 7*5=35 7*6=42 7*7=49 7*8=56 7*9=63 \n",
            "8*1= 8 8*2=16 8*3=24 8*4=32 8*5=40 8*6=48 8*7=56 8*8=64 8*9=72 \n",
            "9*1= 9 9*2=18 9*3=27 9*4=36 9*5=45 9*6=54 9*7=63 9*8=72 9*9=81 \n"
          ]
        }
      ]
    },
    {
      "cell_type": "code",
      "source": [
        "a = int(input(\"請輸入a的值:\"))\n",
        "b = int(input(\"請輸入b的值:\"))\n",
        "\n",
        "maxno = a*b\n",
        "for i in range(1, maxno+1):\n",
        "  if(i % a == 0 and i % b ==0):\n",
        "    break\n",
        "print(\"%d和 %d的最小公倍數 = %d\" %(a,b,i))"
      ],
      "metadata": {
        "colab": {
          "base_uri": "https://localhost:8080/"
        },
        "id": "i1dv-4kb4Vjh",
        "outputId": "f33c3c5e-ef2a-4c80-ba5f-dc41097b8ab4"
      },
      "execution_count": 9,
      "outputs": [
        {
          "output_type": "stream",
          "name": "stdout",
          "text": [
            "請輸入a的值:5\n",
            "請輸入b的值:4\n",
            "5和 4的最小公倍數 = 20\n"
          ]
        }
      ]
    },
    {
      "cell_type": "code",
      "source": [
        "n = int(input(\"請輸入一個正整數:\"))\n",
        "for i in range(1, n+1):\n",
        "  if i % 5 == 0:\n",
        "    continue\n",
        "  print(i, end=\" \")"
      ],
      "metadata": {
        "colab": {
          "base_uri": "https://localhost:8080/"
        },
        "id": "betEEBBe5pOE",
        "outputId": "2445ad50-16b8-4ef5-a39a-29b15118ead9"
      },
      "execution_count": 11,
      "outputs": [
        {
          "output_type": "stream",
          "name": "stdout",
          "text": [
            "請輸入一個正整數:25\n",
            "1 2 3 4 6 7 8 9 11 12 13 14 16 17 18 19 21 22 23 24 "
          ]
        }
      ]
    },
    {
      "cell_type": "code",
      "source": [
        "total = n = 0\n",
        "while(n < 10):\n",
        "  n += 1\n",
        "  total += n\n",
        "print(total)"
      ],
      "metadata": {
        "colab": {
          "base_uri": "https://localhost:8080/"
        },
        "id": "RSxeb9N_7Nwj",
        "outputId": "76b48d98-5918-4521-ae79-7cc80afa1111"
      },
      "execution_count": 12,
      "outputs": [
        {
          "output_type": "stream",
          "name": "stdout",
          "text": [
            "55\n"
          ]
        }
      ]
    },
    {
      "cell_type": "code",
      "source": [
        "total = n = 0\n",
        "while n<= 10:\n",
        "  total += n\n",
        "  n += 1\n",
        "print(total)"
      ],
      "metadata": {
        "colab": {
          "base_uri": "https://localhost:8080/"
        },
        "id": "5xoDawoc78iO",
        "outputId": "1ed7ee7f-2e44-42ef-ccda-f77efec4fbc5"
      },
      "execution_count": 17,
      "outputs": [
        {
          "output_type": "stream",
          "name": "stdout",
          "text": [
            "55\n"
          ]
        }
      ]
    },
    {
      "cell_type": "code",
      "execution_count": 18,
      "metadata": {
        "colab": {
          "base_uri": "https://localhost:8080/"
        },
        "id": "w81oSs5Wuour",
        "outputId": "9f05037c-de68-4e82-c962-4c6266fb589f"
      },
      "outputs": [
        {
          "output_type": "stream",
          "name": "stdout",
          "text": [
            "請輸入正整數n的值:5\n",
            "5!=120\n"
          ]
        }
      ],
      "source": [
        "total = i = 1\n",
        "n = int(input(\"請輸入正整數n的值:\"))\n",
        "while i<=n:\n",
        "  total *= i\n",
        "  i+=1\n",
        "print(\"%d!=%d\" % (n, total))"
      ]
    },
    {
      "cell_type": "code",
      "source": [
        "total = 0\n",
        "for i in range(1,50+1):\n",
        "  if i%2==0:\n",
        "    total=total+i\n",
        "print(\"0-50的偶數和結果是\",total)"
      ],
      "metadata": {
        "colab": {
          "base_uri": "https://localhost:8080/"
        },
        "id": "EpfUoztdmAUt",
        "outputId": "8f052c4e-9feb-46bc-947f-d2382983e343"
      },
      "execution_count": 11,
      "outputs": [
        {
          "output_type": "stream",
          "name": "stdout",
          "text": [
            "0-50的偶數和結果是 650\n"
          ]
        }
      ]
    },
    {
      "cell_type": "code",
      "source": [
        "total = 0\n",
        "for i in range(1,50+1):\n",
        "  if i%2==1:\n",
        "    total=total+i\n",
        "print(\"0-50的奇數和結果是\",total)"
      ],
      "metadata": {
        "colab": {
          "base_uri": "https://localhost:8080/"
        },
        "id": "C7onSjWwO2lS",
        "outputId": "265918f2-21ab-4042-f421-59c8ef219c85"
      },
      "execution_count": 10,
      "outputs": [
        {
          "output_type": "stream",
          "name": "stdout",
          "text": [
            "0-50的奇數和結果是 625\n"
          ]
        }
      ]
    },
    {
      "cell_type": "code",
      "source": [
        "n = eval(input(\"請輸入正整數:\"))\n",
        "for i in range(n):\n",
        "    print((n-i)*'*')"
      ],
      "metadata": {
        "colab": {
          "base_uri": "https://localhost:8080/"
        },
        "id": "djzBdnTsjgTa",
        "outputId": "498fea05-3f22-4da4-aa07-c3f24c66fc1e"
      },
      "execution_count": 19,
      "outputs": [
        {
          "output_type": "stream",
          "name": "stdout",
          "text": [
            "請輸入正整數:7\n",
            "*******\n",
            "******\n",
            "*****\n",
            "****\n",
            "***\n",
            "**\n",
            "*\n"
          ]
        }
      ]
    },
    {
      "cell_type": "code",
      "source": [
        "total = 0\n",
        "for i in range(1,100+1):\n",
        "  if i%3==0 or i%7==0:\n",
        "    total=total+i\n",
        "print(total)"
      ],
      "metadata": {
        "colab": {
          "base_uri": "https://localhost:8080/"
        },
        "id": "NKK0uWoDPuCt",
        "outputId": "15fb6789-de27-4685-f7cb-3825bf0758e8"
      },
      "execution_count": 9,
      "outputs": [
        {
          "output_type": "stream",
          "name": "stdout",
          "text": [
            "2208\n"
          ]
        }
      ]
    },
    {
      "cell_type": "code",
      "source": [
        "n = int(input(\"請輸入正整數:\"))\n",
        "def print_factors(x):\n",
        "   print(n,\"的因数有:\")\n",
        "   for i in range(1,x+1):\n",
        "     if x%i == 0:\n",
        "       print(i)\n",
        "print_factors(n)\n",
        "if n > 1:\n",
        "    for i in range(2, int(n/2)+1):\n",
        "         if (n%i) == 0:\n",
        "            print(n,\"不是質數\")\n",
        "            break\n",
        "    else:\n",
        "        print(n,\"是質數\")\n",
        "else:\n",
        "    print(n,\"不是質數\")"
      ],
      "metadata": {
        "colab": {
          "base_uri": "https://localhost:8080/"
        },
        "id": "GFgmJMPcRwE8",
        "outputId": "b2a441bf-c4e8-48a4-acec-a2110fccb664"
      },
      "execution_count": 26,
      "outputs": [
        {
          "output_type": "stream",
          "name": "stdout",
          "text": [
            "請輸入正整數:12\n",
            "12 的因数有:\n",
            "1\n",
            "2\n",
            "3\n",
            "4\n",
            "6\n",
            "12\n",
            "12 不是質數\n"
          ]
        }
      ]
    }
  ]
}