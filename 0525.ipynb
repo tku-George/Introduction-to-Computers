{
  "nbformat": 4,
  "nbformat_minor": 0,
  "metadata": {
    "colab": {
      "name": "0525.ipynb",
      "provenance": [],
      "authorship_tag": "ABX9TyOaAL0hgpRuszpYVLOgoUb0",
      "include_colab_link": true
    },
    "kernelspec": {
      "name": "python3",
      "display_name": "Python 3"
    },
    "language_info": {
      "name": "python"
    }
  },
  "cells": [
    {
      "cell_type": "markdown",
      "metadata": {
        "id": "view-in-github",
        "colab_type": "text"
      },
      "source": [
        "<a href=\"https://colab.research.google.com/github/tku-George/Introduction-to-Computers/blob/main/0525.ipynb\" target=\"_parent\"><img src=\"https://colab.research.google.com/assets/colab-badge.svg\" alt=\"Open In Colab\"/></a>"
      ]
    },
    {
      "cell_type": "code",
      "execution_count": 2,
      "metadata": {
        "colab": {
          "base_uri": "https://localhost:8080/"
        },
        "id": "LAxIRajFkKGo",
        "outputId": "35ce6cd7-eee2-411e-ca2f-82756222250a"
      },
      "outputs": [
        {
          "output_type": "stream",
          "name": "stdout",
          "text": [
            "請輸入一個正整數50\n",
            "1到 50 的整數合為 1\n",
            "1到 50 的整數合為 3\n",
            "1到 50 的整數合為 6\n",
            "1到 50 的整數合為 10\n",
            "1到 50 的整數合為 15\n",
            "1到 50 的整數合為 21\n",
            "1到 50 的整數合為 28\n",
            "1到 50 的整數合為 36\n",
            "1到 50 的整數合為 45\n",
            "1到 50 的整數合為 55\n",
            "1到 50 的整數合為 66\n",
            "1到 50 的整數合為 78\n",
            "1到 50 的整數合為 91\n",
            "1到 50 的整數合為 105\n",
            "1到 50 的整數合為 120\n",
            "1到 50 的整數合為 136\n",
            "1到 50 的整數合為 153\n",
            "1到 50 的整數合為 171\n",
            "1到 50 的整數合為 190\n",
            "1到 50 的整數合為 210\n",
            "1到 50 的整數合為 231\n",
            "1到 50 的整數合為 253\n",
            "1到 50 的整數合為 276\n",
            "1到 50 的整數合為 300\n",
            "1到 50 的整數合為 325\n",
            "1到 50 的整數合為 351\n",
            "1到 50 的整數合為 378\n",
            "1到 50 的整數合為 406\n",
            "1到 50 的整數合為 435\n",
            "1到 50 的整數合為 465\n",
            "1到 50 的整數合為 496\n",
            "1到 50 的整數合為 528\n",
            "1到 50 的整數合為 561\n",
            "1到 50 的整數合為 595\n",
            "1到 50 的整數合為 630\n",
            "1到 50 的整數合為 666\n",
            "1到 50 的整數合為 703\n",
            "1到 50 的整數合為 741\n",
            "1到 50 的整數合為 780\n",
            "1到 50 的整數合為 820\n",
            "1到 50 的整數合為 861\n",
            "1到 50 的整數合為 903\n",
            "1到 50 的整數合為 946\n",
            "1到 50 的整數合為 990\n",
            "1到 50 的整數合為 1035\n",
            "1到 50 的整數合為 1081\n",
            "1到 50 的整數合為 1128\n",
            "1到 50 的整數合為 1176\n",
            "1到 50 的整數合為 1225\n",
            "1到 50 的整數合為 1275\n"
          ]
        }
      ],
      "source": [
        "sum = 0\n",
        "test = int(input(\"請輸入一個正整數\"))\n",
        "for n in range(1, test+1):\n",
        "  sum = sum+n\n",
        "  print(\"1到\",test,\"的整數合為\",sum)\n",
        "  "
      ]
    },
    {
      "cell_type": "code",
      "source": [
        "sum = 0\n",
        "test = int(input(\"請輸入一個正整數\"))\n",
        "for m in range(1, test+1):\n",
        "  sum = sum+m\n",
        "  print(\"1到\"+str(m)+\"的整數合為:\",sum)"
      ],
      "metadata": {
        "colab": {
          "base_uri": "https://localhost:8080/"
        },
        "id": "_2LgZUvkmay6",
        "outputId": "196b28ff-4e54-4f20-f4ce-45eb69acbd95"
      },
      "execution_count": 1,
      "outputs": [
        {
          "output_type": "stream",
          "name": "stdout",
          "text": [
            "請輸入一個正整數50\n",
            "1到1的整數合為: 1\n",
            "1到2的整數合為: 3\n",
            "1到3的整數合為: 6\n",
            "1到4的整數合為: 10\n",
            "1到5的整數合為: 15\n",
            "1到6的整數合為: 21\n",
            "1到7的整數合為: 28\n",
            "1到8的整數合為: 36\n",
            "1到9的整數合為: 45\n",
            "1到10的整數合為: 55\n",
            "1到11的整數合為: 66\n",
            "1到12的整數合為: 78\n",
            "1到13的整數合為: 91\n",
            "1到14的整數合為: 105\n",
            "1到15的整數合為: 120\n",
            "1到16的整數合為: 136\n",
            "1到17的整數合為: 153\n",
            "1到18的整數合為: 171\n",
            "1到19的整數合為: 190\n",
            "1到20的整數合為: 210\n",
            "1到21的整數合為: 231\n",
            "1到22的整數合為: 253\n",
            "1到23的整數合為: 276\n",
            "1到24的整數合為: 300\n",
            "1到25的整數合為: 325\n",
            "1到26的整數合為: 351\n",
            "1到27的整數合為: 378\n",
            "1到28的整數合為: 406\n",
            "1到29的整數合為: 435\n",
            "1到30的整數合為: 465\n",
            "1到31的整數合為: 496\n",
            "1到32的整數合為: 528\n",
            "1到33的整數合為: 561\n",
            "1到34的整數合為: 595\n",
            "1到35的整數合為: 630\n",
            "1到36的整數合為: 666\n",
            "1到37的整數合為: 703\n",
            "1到38的整數合為: 741\n",
            "1到39的整數合為: 780\n",
            "1到40的整數合為: 820\n",
            "1到41的整數合為: 861\n",
            "1到42的整數合為: 903\n",
            "1到43的整數合為: 946\n",
            "1到44的整數合為: 990\n",
            "1到45的整數合為: 1035\n",
            "1到46的整數合為: 1081\n",
            "1到47的整數合為: 1128\n",
            "1到48的整數合為: 1176\n",
            "1到49的整數合為: 1225\n",
            "1到50的整數合為: 1275\n"
          ]
        }
      ]
    },
    {
      "cell_type": "code",
      "source": [
        "for j in range(1,6):\n",
        "  print(j)\n",
        "  for i in range(1,3):\n",
        "    k = i*j\n",
        "    print(j,\"*\",i,\"=\",k)"
      ],
      "metadata": {
        "colab": {
          "base_uri": "https://localhost:8080/"
        },
        "id": "Nm8oboFamzp9",
        "outputId": "d203a4eb-36d3-4a5a-ce83-10d78d4690c8"
      },
      "execution_count": 14,
      "outputs": [
        {
          "output_type": "stream",
          "name": "stdout",
          "text": [
            "1\n",
            "1 * 1 = 1\n",
            "1 * 2 = 2\n",
            "2\n",
            "2 * 1 = 2\n",
            "2 * 2 = 4\n",
            "3\n",
            "3 * 1 = 3\n",
            "3 * 2 = 6\n",
            "4\n",
            "4 * 1 = 4\n",
            "4 * 2 = 8\n",
            "5\n",
            "5 * 1 = 5\n",
            "5 * 2 = 10\n"
          ]
        }
      ]
    },
    {
      "cell_type": "code",
      "source": [
        ""
      ],
      "metadata": {
        "id": "AM0aS_TOtFF8"
      },
      "execution_count": null,
      "outputs": []
    },
    {
      "cell_type": "code",
      "source": [
        "for i in range(1,5):\n",
        "  if(i==4):\n",
        "    break\n",
        "  print(i, end = \" \")"
      ],
      "metadata": {
        "colab": {
          "base_uri": "https://localhost:8080/"
        },
        "id": "aFto8mIfpBgV",
        "outputId": "2f520444-9d7b-4448-f261-9f2c5af2c3a0"
      },
      "execution_count": 18,
      "outputs": [
        {
          "output_type": "stream",
          "name": "stdout",
          "text": [
            "1 2 3 "
          ]
        }
      ]
    },
    {
      "cell_type": "code",
      "source": [
        "for i in range(1,5):\n",
        "  if(i==4):\n",
        "    continue\n",
        "  print(i, end = \" \")"
      ],
      "metadata": {
        "colab": {
          "base_uri": "https://localhost:8080/"
        },
        "id": "UrETEiz2p2MZ",
        "outputId": "aaa95a62-65e0-47c9-86b3-56488fbd80d1"
      },
      "execution_count": 19,
      "outputs": [
        {
          "output_type": "stream",
          "name": "stdout",
          "text": [
            "1 2 3 "
          ]
        }
      ]
    },
    {
      "cell_type": "code",
      "source": [
        "count = 0\n",
        "for string in \"hello\":\n",
        "  count+=1\n",
        "  if string == \"o\":\n",
        "    break\n",
        "  print(string)\n",
        "print(\"迴圈結束\")\n",
        "print(\"迴圈執行了 %d 次\" %count)"
      ],
      "metadata": {
        "colab": {
          "base_uri": "https://localhost:8080/"
        },
        "id": "f_wiCxr3qldG",
        "outputId": "f06a7691-b039-4551-c337-62cac2e80ab0"
      },
      "execution_count": 23,
      "outputs": [
        {
          "output_type": "stream",
          "name": "stdout",
          "text": [
            "h\n",
            "e\n",
            "l\n",
            "l\n",
            "迴圈結束\n",
            "迴圈執行了 5 次\n"
          ]
        }
      ]
    },
    {
      "cell_type": "code",
      "source": [
        "count = 0\n",
        "for string in \"測試看看\":\n",
        "  count+=1\n",
        "  if string == \"看\":\n",
        "    break\n",
        "  print(string)\n",
        "print(\"迴圈結束\")\n",
        "print(\"迴圈執行了 %d 次\" %count)"
      ],
      "metadata": {
        "colab": {
          "base_uri": "https://localhost:8080/"
        },
        "id": "RLgD6OUCr9rK",
        "outputId": "69c94747-e2cd-420a-e2ab-9cfb14d73c71"
      },
      "execution_count": 25,
      "outputs": [
        {
          "output_type": "stream",
          "name": "stdout",
          "text": [
            "測\n",
            "試\n",
            "迴圈結束\n",
            "迴圈執行了 3 次\n"
          ]
        }
      ]
    },
    {
      "cell_type": "code",
      "source": [
        "for j in range(2,10):\n",
        "  print(j)\n",
        "  for i in range(1,10):\n",
        "    k = i*j\n",
        "    print(j,\"*\",i,\"=\",k)"
      ],
      "metadata": {
        "colab": {
          "base_uri": "https://localhost:8080/"
        },
        "id": "LE9HeF3QtKqW",
        "outputId": "54b749ea-2e64-45ea-99d5-74acc19cc136"
      },
      "execution_count": 28,
      "outputs": [
        {
          "output_type": "stream",
          "name": "stdout",
          "text": [
            "2\n",
            "2 * 1 = 2\n",
            "2 * 2 = 4\n",
            "2 * 3 = 6\n",
            "2 * 4 = 8\n",
            "2 * 5 = 10\n",
            "2 * 6 = 12\n",
            "2 * 7 = 14\n",
            "2 * 8 = 16\n",
            "2 * 9 = 18\n",
            "3\n",
            "3 * 1 = 3\n",
            "3 * 2 = 6\n",
            "3 * 3 = 9\n",
            "3 * 4 = 12\n",
            "3 * 5 = 15\n",
            "3 * 6 = 18\n",
            "3 * 7 = 21\n",
            "3 * 8 = 24\n",
            "3 * 9 = 27\n",
            "4\n",
            "4 * 1 = 4\n",
            "4 * 2 = 8\n",
            "4 * 3 = 12\n",
            "4 * 4 = 16\n",
            "4 * 5 = 20\n",
            "4 * 6 = 24\n",
            "4 * 7 = 28\n",
            "4 * 8 = 32\n",
            "4 * 9 = 36\n",
            "5\n",
            "5 * 1 = 5\n",
            "5 * 2 = 10\n",
            "5 * 3 = 15\n",
            "5 * 4 = 20\n",
            "5 * 5 = 25\n",
            "5 * 6 = 30\n",
            "5 * 7 = 35\n",
            "5 * 8 = 40\n",
            "5 * 9 = 45\n",
            "6\n",
            "6 * 1 = 6\n",
            "6 * 2 = 12\n",
            "6 * 3 = 18\n",
            "6 * 4 = 24\n",
            "6 * 5 = 30\n",
            "6 * 6 = 36\n",
            "6 * 7 = 42\n",
            "6 * 8 = 48\n",
            "6 * 9 = 54\n",
            "7\n",
            "7 * 1 = 7\n",
            "7 * 2 = 14\n",
            "7 * 3 = 21\n",
            "7 * 4 = 28\n",
            "7 * 5 = 35\n",
            "7 * 6 = 42\n",
            "7 * 7 = 49\n",
            "7 * 8 = 56\n",
            "7 * 9 = 63\n",
            "8\n",
            "8 * 1 = 8\n",
            "8 * 2 = 16\n",
            "8 * 3 = 24\n",
            "8 * 4 = 32\n",
            "8 * 5 = 40\n",
            "8 * 6 = 48\n",
            "8 * 7 = 56\n",
            "8 * 8 = 64\n",
            "8 * 9 = 72\n",
            "9\n",
            "9 * 1 = 9\n",
            "9 * 2 = 18\n",
            "9 * 3 = 27\n",
            "9 * 4 = 36\n",
            "9 * 5 = 45\n",
            "9 * 6 = 54\n",
            "9 * 7 = 63\n",
            "9 * 8 = 72\n",
            "9 * 9 = 81\n"
          ]
        }
      ]
    },
    {
      "cell_type": "code",
      "source": [
        "def lcm(a, b):\n",
        "    return a * b // gcd(a, b)\n",
        "    \n",
        "a = int(input(\"請輸入a的質:\"))\n",
        "b = int(input(\"請輸入b的質:\"))\n",
        "print(a,\"和\",b,\"的最小公倍數:\", lcm(a, b))"
      ],
      "metadata": {
        "colab": {
          "base_uri": "https://localhost:8080/"
        },
        "id": "_OWWTvpzuK9A",
        "outputId": "16610fdf-58bd-42dd-fe3f-ecaf8e419e3d"
      },
      "execution_count": 44,
      "outputs": [
        {
          "output_type": "stream",
          "name": "stdout",
          "text": [
            "請輸入a的質:9\n",
            "請輸入b的質:15\n",
            "9 和 15 的最小公倍數:  45\n"
          ]
        }
      ]
    },
    {
      "cell_type": "code",
      "source": [
        "a = int(input(\"請輸入一個正整數:\"))\n",
        "for i in range(1,a):\n",
        "  if(i%5==0):\n",
        "    continue\n",
        "  print(i, end = \" \")"
      ],
      "metadata": {
        "colab": {
          "base_uri": "https://localhost:8080/"
        },
        "id": "l3N12gUwyA_q",
        "outputId": "fe0baa6f-ef19-42d9-dcd6-2b308c9bb49f"
      },
      "execution_count": 57,
      "outputs": [
        {
          "output_type": "stream",
          "name": "stdout",
          "text": [
            "請輸入一個正整數:21\n",
            "1 2 3 4 6 7 8 9 11 12 13 14 16 17 18 19 "
          ]
        }
      ]
    }
  ]
}