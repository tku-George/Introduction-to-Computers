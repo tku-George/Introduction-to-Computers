{
  "nbformat": 4,
  "nbformat_minor": 0,
  "metadata": {
    "colab": {
      "name": "「期中實作_經濟3A_黃冠智_409577227.ipynb」",
      "provenance": [],
      "authorship_tag": "ABX9TyNakEUKvNlsaSRAo3UFVi8L",
      "include_colab_link": true
    },
    "kernelspec": {
      "name": "python3",
      "display_name": "Python 3"
    },
    "language_info": {
      "name": "python"
    }
  },
  "cells": [
    {
      "cell_type": "markdown",
      "metadata": {
        "id": "view-in-github",
        "colab_type": "text"
      },
      "source": [
        "<a href=\"https://colab.research.google.com/github/tku-George/Introduction-to-Computers/blob/main/%E3%80%8C%E6%9C%9F%E4%B8%AD%E5%AF%A6%E4%BD%9C_%E7%B6%93%E6%BF%9F3A_%E9%BB%83%E5%86%A0%E6%99%BA_409577227_ipynb%E3%80%8D.ipynb\" target=\"_parent\"><img src=\"https://colab.research.google.com/assets/colab-badge.svg\" alt=\"Open In Colab\"/></a>"
      ]
    },
    {
      "cell_type": "markdown",
      "source": [
        "第一題\n"
      ],
      "metadata": {
        "id": "e2wBUfqqnrNH"
      }
    },
    {
      "cell_type": "code",
      "source": [
        "班級 = input('班級:')\n",
        "姓名 = input('姓名:')\n",
        "學號 = int(input('學號:'))"
      ],
      "metadata": {
        "colab": {
          "base_uri": "https://localhost:8080/"
        },
        "id": "V90vXYxJm11L",
        "outputId": "fb997098-280e-4c15-bb2f-222ecef9af2e"
      },
      "execution_count": null,
      "outputs": [
        {
          "name": "stdout",
          "output_type": "stream",
          "text": [
            "班級:經濟三A\n",
            "姓名:黃冠智\n",
            "學號:409577227\n"
          ]
        }
      ]
    },
    {
      "cell_type": "markdown",
      "source": [
        "第二題"
      ],
      "metadata": {
        "id": "ctqRocM8nuDS"
      }
    },
    {
      "cell_type": "code",
      "source": [
        "month = int(input('請輸入月份:'))\n",
        "day = int(input('請輸入日期:'))\n",
        "week = input('請輸入今天是星期幾:')\n",
        "print('今天是:',month,'月',day,'號','星期',week)"
      ],
      "metadata": {
        "colab": {
          "base_uri": "https://localhost:8080/"
        },
        "id": "k8rEqB51nvee",
        "outputId": "ad384d14-9a6d-4cd4-99a7-8c4d89e7f9e9"
      },
      "execution_count": null,
      "outputs": [
        {
          "output_type": "stream",
          "name": "stdout",
          "text": [
            "請輸入月份:1\n",
            "請輸入日期:1\n",
            "請輸入今天是星期幾:二\n",
            "今天是: 1 月 1 號 星期 二\n"
          ]
        }
      ]
    },
    {
      "cell_type": "markdown",
      "source": [
        "第三題"
      ],
      "metadata": {
        "id": "93_vTuTDjp2m"
      }
    },
    {
      "cell_type": "code",
      "execution_count": null,
      "metadata": {
        "colab": {
          "base_uri": "https://localhost:8080/"
        },
        "id": "KKssuY_lZnZP",
        "outputId": "b18db3ad-9395-4622-b9d2-d9d932d83442"
      },
      "outputs": [
        {
          "output_type": "stream",
          "name": "stdout",
          "text": [
            "請輸入梯形上底長度:4\n",
            "請輸入梯形下底長度:5\n",
            "請輸入梯形高度:4\n",
            "梯形上底長度為: 4公分,梯形下底長度為: 5公分,梯形高度為: 4公分,梯形面積為: 18.00平方公分\n"
          ]
        }
      ],
      "source": [
        "上底 = int(input('請輸入梯形上底長度:'))\n",
        "下底 = int(input('請輸入梯形下底長度:'))\n",
        "高 = int(input('請輸入梯形高度:'))\n",
        "面積 = (上底+下底)*高/2\n",
        "print('梯形上底長度為: %d公分,梯形下底長度為: %d公分,梯形高度為: %d公分,梯形面積為: %0.2f平方公分' %(上底,下底,高,面積))"
      ]
    },
    {
      "cell_type": "markdown",
      "source": [
        "第四題"
      ],
      "metadata": {
        "id": "8XBuPxcdjmas"
      }
    },
    {
      "cell_type": "code",
      "source": [
        "身高 = int(input('請輸入您的身高(cm):'))\n",
        "體重 = int(input('請輸入您的體重(kg):'))\n",
        "BMI = 體重/(身高/100)**2\n",
        "print('身高 %d 公分, 體重 %d公斤, BMI值為 %0.3f' %(身高,體重,BMI))"
      ],
      "metadata": {
        "colab": {
          "base_uri": "https://localhost:8080/"
        },
        "id": "bJFfjwvfgEar",
        "outputId": "9b7fefa7-d90d-45ad-def3-22d919cadf6f"
      },
      "execution_count": null,
      "outputs": [
        {
          "output_type": "stream",
          "name": "stdout",
          "text": [
            "請輸入您的身高(cm):180\n",
            "請輸入您的體重(kg):60\n",
            "身高 180 公分, 體重 60公斤, BMI值為 18.519\n"
          ]
        }
      ]
    },
    {
      "cell_type": "markdown",
      "source": [
        "第五題"
      ],
      "metadata": {
        "id": "XK7mnrIQjbi8"
      }
    },
    {
      "cell_type": "code",
      "source": [
        "num = int(input('請輸入正整數:'))\n",
        "if(num % 2) == 0:\n",
        "   print(\"{0} 為偶數!\".format(num))\n",
        "else:\n",
        "   print(\"{0} 為奇數!\".format(num))"
      ],
      "metadata": {
        "colab": {
          "base_uri": "https://localhost:8080/"
        },
        "id": "5parQ6LTjLnw",
        "outputId": "ab676f15-33e9-436c-b159-91856dae7a3a"
      },
      "execution_count": null,
      "outputs": [
        {
          "output_type": "stream",
          "name": "stdout",
          "text": [
            "請輸入正整數:50\n",
            "50 為偶數!\n"
          ]
        }
      ]
    },
    {
      "cell_type": "code",
      "source": [
        "num = int(input('請輸入正整數:'))\n",
        "if(num % 2) == 0:\n",
        "   print(\"{0} 為偶數!\".format(num))\n",
        "else:\n",
        "   print(\"{0} 為奇數!\".format(num))"
      ],
      "metadata": {
        "colab": {
          "base_uri": "https://localhost:8080/"
        },
        "id": "TUMdFdrijXV9",
        "outputId": "9f69163c-5397-4b96-c590-959163d6b3c7"
      },
      "execution_count": null,
      "outputs": [
        {
          "output_type": "stream",
          "name": "stdout",
          "text": [
            "請輸入正整數:51\n",
            "51 為奇數!\n"
          ]
        }
      ]
    },
    {
      "cell_type": "markdown",
      "source": [
        "第六題"
      ],
      "metadata": {
        "id": "LSjvbx-Mjsdg"
      }
    },
    {
      "cell_type": "code",
      "source": [
        "體溫 = input(\"請輸入你的體溫:\")\n",
        "if(int(體溫)>=37.5):\n",
        "  print(\"體溫異常，請重新量測!\")\n",
        "elif(int(體溫)<=36):\n",
        "  print(\"體溫異常，請重新量測!\")\n",
        "else:\n",
        "  print('體溫正常')"
      ],
      "metadata": {
        "colab": {
          "base_uri": "https://localhost:8080/"
        },
        "id": "26fc-J-Lda6Q",
        "outputId": "7d40adc6-79ec-4a64-9599-209acb0ce65a"
      },
      "execution_count": null,
      "outputs": [
        {
          "output_type": "stream",
          "name": "stdout",
          "text": [
            "請輸入你的體溫:34\n",
            "體溫異常，請重新量測!\n"
          ]
        }
      ]
    }
  ]
}