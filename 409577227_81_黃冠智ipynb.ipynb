{
  "nbformat": 4,
  "nbformat_minor": 0,
  "metadata": {
    "colab": {
      "name": "409577227_81_黃冠智ipynb",
      "provenance": [],
      "authorship_tag": "ABX9TyPQIYpJdWElzIa0zIiK44/d",
      "include_colab_link": true
    },
    "kernelspec": {
      "name": "python3",
      "display_name": "Python 3"
    },
    "language_info": {
      "name": "python"
    }
  },
  "cells": [
    {
      "cell_type": "markdown",
      "metadata": {
        "id": "view-in-github",
        "colab_type": "text"
      },
      "source": [
        "<a href=\"https://colab.research.google.com/github/tku-George/Introduction-to-Computers/blob/main/409577227_81_%E9%BB%83%E5%86%A0%E6%99%BAipynb.ipynb\" target=\"_parent\"><img src=\"https://colab.research.google.com/assets/colab-badge.svg\" alt=\"Open In Colab\"/></a>"
      ]
    },
    {
      "cell_type": "code",
      "execution_count": 25,
      "metadata": {
        "colab": {
          "base_uri": "https://localhost:8080/"
        },
        "id": "xMGZO93CLDpU",
        "outputId": "fa222e4e-a81a-417a-d21b-f1ce832f002a"
      },
      "outputs": [
        {
          "output_type": "stream",
          "name": "stdout",
          "text": [
            "金州勇士現有的球員陣容: ['Curry', 'Green', 'Durant', 'Looney', 'Thompson']\n",
            "勇士今天最高的三個得分: [30, 22, 28] 球員分別為: ['Curry', 'Durant', 'Thompson']\n",
            "勇士今天最低的兩個得分: [5, 6] 球員分別為: ['Green', 'Looney']\n",
            "勇士最高得分為: Curry 分數為: 30 分\n",
            "勇士最低得分為: Green 分數為: 5 分\n"
          ]
        }
      ],
      "source": [
        "Player=['Curry','Green','Durant','Looney','Thompson']\n",
        "Fraction = [30,5,22,6,28]\n",
        "print(\"金州勇士現有的球員陣容:\",Player)\n",
        "print(\"勇士今天最高的三個得分:\",Fraction[0:6:2],\"球員分別為:\",Player[0:6:2])\n",
        "print(\"勇士今天最低的兩個得分:\",Fraction[1:6:2],\"球員分別為:\",Player[1:6:2])\n",
        "print(\"勇士最高得分為:\",Player[0],\"分數為:\",max(Fraction),\"分\")\n",
        "print(\"勇士最低得分為:\",Player[1],\"分數為:\",min(Fraction),\"分\")\n"
      ]
    },
    {
      "cell_type": "code",
      "source": [
        ""
      ],
      "metadata": {
        "id": "pagJ1olZMgp5"
      },
      "execution_count": null,
      "outputs": []
    }
  ]
}